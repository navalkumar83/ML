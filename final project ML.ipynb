{
 "cells": [
  {
   "cell_type": "markdown",
   "metadata": {},
   "source": []
  },
  {
   "cell_type": "code",
   "execution_count": 18,
   "metadata": {},
   "outputs": [],
   "source": [
    "#import required libraries\n",
    "import pandas as pd\n",
    "import numpy as np\n",
    "import seaborn as sns\n",
    "import matplotlib.pyplot as plt\n",
    "from sklearn.model_selection import train_test_split, GridSearchCV\n",
    "from sklearn.preprocessing import StandardScaler\n",
    "from sklearn.linear_model import LinearRegression, Ridge, Lasso\n",
    "from sklearn.ensemble import RandomForestRegressor, GradientBoostingRegressor\n",
    "from sklearn.metrics import mean_squared_error, r2_score,precision_score"
   ]
  },
  {
   "cell_type": "code",
   "execution_count": 2,
   "metadata": {},
   "outputs": [],
   "source": [
    "#Load Dataset\n",
    "df=pd.read_csv('C:/Users/naval/OneDrive/Desktop/ML case Study.csv',header=0)"
   ]
  },
  {
   "cell_type": "code",
   "execution_count": 3,
   "metadata": {},
   "outputs": [
    {
     "data": {
      "text/html": [
       "<div>\n",
       "<style scoped>\n",
       "    .dataframe tbody tr th:only-of-type {\n",
       "        vertical-align: middle;\n",
       "    }\n",
       "\n",
       "    .dataframe tbody tr th {\n",
       "        vertical-align: top;\n",
       "    }\n",
       "\n",
       "    .dataframe thead th {\n",
       "        text-align: right;\n",
       "    }\n",
       "</style>\n",
       "<table border=\"1\" class=\"dataframe\">\n",
       "  <thead>\n",
       "    <tr style=\"text-align: right;\">\n",
       "      <th></th>\n",
       "      <th>College</th>\n",
       "      <th>City</th>\n",
       "      <th>Role</th>\n",
       "      <th>Previous CTC</th>\n",
       "      <th>Previous job change</th>\n",
       "      <th>Graduation Marks</th>\n",
       "      <th>EXP (Month)</th>\n",
       "      <th>CTC</th>\n",
       "    </tr>\n",
       "  </thead>\n",
       "  <tbody>\n",
       "    <tr>\n",
       "      <th>0</th>\n",
       "      <td>SVNIT Surat</td>\n",
       "      <td>Asansol</td>\n",
       "      <td>Manager</td>\n",
       "      <td>55523.0</td>\n",
       "      <td>3</td>\n",
       "      <td>66</td>\n",
       "      <td>19</td>\n",
       "      <td>71406.58</td>\n",
       "    </tr>\n",
       "    <tr>\n",
       "      <th>1</th>\n",
       "      <td>NIT Bhopal</td>\n",
       "      <td>Ajmer</td>\n",
       "      <td>Executive</td>\n",
       "      <td>57081.0</td>\n",
       "      <td>1</td>\n",
       "      <td>84</td>\n",
       "      <td>18</td>\n",
       "      <td>68005.87</td>\n",
       "    </tr>\n",
       "    <tr>\n",
       "      <th>2</th>\n",
       "      <td>IEM, Kolkata</td>\n",
       "      <td>Rajpur Sonarpur</td>\n",
       "      <td>Executive</td>\n",
       "      <td>60347.0</td>\n",
       "      <td>2</td>\n",
       "      <td>52</td>\n",
       "      <td>28</td>\n",
       "      <td>76764.02</td>\n",
       "    </tr>\n",
       "    <tr>\n",
       "      <th>3</th>\n",
       "      <td>KIIT, Bhubaneswar</td>\n",
       "      <td>Ajmer</td>\n",
       "      <td>Executive</td>\n",
       "      <td>49010.0</td>\n",
       "      <td>2</td>\n",
       "      <td>81</td>\n",
       "      <td>33</td>\n",
       "      <td>82092.39</td>\n",
       "    </tr>\n",
       "    <tr>\n",
       "      <th>4</th>\n",
       "      <td>DTU</td>\n",
       "      <td>Durgapur</td>\n",
       "      <td>Executive</td>\n",
       "      <td>57879.0</td>\n",
       "      <td>4</td>\n",
       "      <td>74</td>\n",
       "      <td>32</td>\n",
       "      <td>73878.10</td>\n",
       "    </tr>\n",
       "  </tbody>\n",
       "</table>\n",
       "</div>"
      ],
      "text/plain": [
       "             College             City       Role  Previous CTC   \n",
       "0        SVNIT Surat          Asansol    Manager       55523.0  \\\n",
       "1         NIT Bhopal            Ajmer  Executive       57081.0   \n",
       "2       IEM, Kolkata  Rajpur Sonarpur  Executive       60347.0   \n",
       "3  KIIT, Bhubaneswar            Ajmer  Executive       49010.0   \n",
       "4                DTU         Durgapur  Executive       57879.0   \n",
       "\n",
       "   Previous job change  Graduation Marks  EXP (Month)       CTC  \n",
       "0                    3                66           19  71406.58  \n",
       "1                    1                84           18  68005.87  \n",
       "2                    2                52           28  76764.02  \n",
       "3                    2                81           33  82092.39  \n",
       "4                    4                74           32  73878.10  "
      ]
     },
     "execution_count": 3,
     "metadata": {},
     "output_type": "execute_result"
    }
   ],
   "source": [
    "df.head()"
   ]
  },
  {
   "cell_type": "code",
   "execution_count": 4,
   "metadata": {},
   "outputs": [
    {
     "data": {
      "text/html": [
       "<div>\n",
       "<style scoped>\n",
       "    .dataframe tbody tr th:only-of-type {\n",
       "        vertical-align: middle;\n",
       "    }\n",
       "\n",
       "    .dataframe tbody tr th {\n",
       "        vertical-align: top;\n",
       "    }\n",
       "\n",
       "    .dataframe thead th {\n",
       "        text-align: right;\n",
       "    }\n",
       "</style>\n",
       "<table border=\"1\" class=\"dataframe\">\n",
       "  <thead>\n",
       "    <tr style=\"text-align: right;\">\n",
       "      <th></th>\n",
       "      <th>Previous CTC</th>\n",
       "      <th>Previous job change</th>\n",
       "      <th>Graduation Marks</th>\n",
       "      <th>EXP (Month)</th>\n",
       "      <th>CTC</th>\n",
       "    </tr>\n",
       "  </thead>\n",
       "  <tbody>\n",
       "    <tr>\n",
       "      <th>count</th>\n",
       "      <td>1589.000000</td>\n",
       "      <td>1589.000000</td>\n",
       "      <td>1589.000000</td>\n",
       "      <td>1589.000000</td>\n",
       "      <td>1589.000000</td>\n",
       "    </tr>\n",
       "    <tr>\n",
       "      <th>mean</th>\n",
       "      <td>55518.453744</td>\n",
       "      <td>2.528634</td>\n",
       "      <td>59.855255</td>\n",
       "      <td>39.044682</td>\n",
       "      <td>75353.278798</td>\n",
       "    </tr>\n",
       "    <tr>\n",
       "      <th>std</th>\n",
       "      <td>6655.218445</td>\n",
       "      <td>1.123918</td>\n",
       "      <td>14.935139</td>\n",
       "      <td>14.108875</td>\n",
       "      <td>12587.288237</td>\n",
       "    </tr>\n",
       "    <tr>\n",
       "      <th>min</th>\n",
       "      <td>36990.000000</td>\n",
       "      <td>1.000000</td>\n",
       "      <td>35.000000</td>\n",
       "      <td>18.000000</td>\n",
       "      <td>53020.320000</td>\n",
       "    </tr>\n",
       "    <tr>\n",
       "      <th>25%</th>\n",
       "      <td>50518.000000</td>\n",
       "      <td>2.000000</td>\n",
       "      <td>46.000000</td>\n",
       "      <td>26.000000</td>\n",
       "      <td>66902.350000</td>\n",
       "    </tr>\n",
       "    <tr>\n",
       "      <th>50%</th>\n",
       "      <td>55291.000000</td>\n",
       "      <td>3.000000</td>\n",
       "      <td>60.000000</td>\n",
       "      <td>39.000000</td>\n",
       "      <td>73028.670000</td>\n",
       "    </tr>\n",
       "    <tr>\n",
       "      <th>75%</th>\n",
       "      <td>60109.000000</td>\n",
       "      <td>4.000000</td>\n",
       "      <td>73.000000</td>\n",
       "      <td>51.000000</td>\n",
       "      <td>80588.670000</td>\n",
       "    </tr>\n",
       "    <tr>\n",
       "      <th>max</th>\n",
       "      <td>77911.000000</td>\n",
       "      <td>4.000000</td>\n",
       "      <td>85.000000</td>\n",
       "      <td>64.000000</td>\n",
       "      <td>123416.990000</td>\n",
       "    </tr>\n",
       "  </tbody>\n",
       "</table>\n",
       "</div>"
      ],
      "text/plain": [
       "       Previous CTC  Previous job change  Graduation Marks  EXP (Month)   \n",
       "count   1589.000000          1589.000000       1589.000000  1589.000000  \\\n",
       "mean   55518.453744             2.528634         59.855255    39.044682   \n",
       "std     6655.218445             1.123918         14.935139    14.108875   \n",
       "min    36990.000000             1.000000         35.000000    18.000000   \n",
       "25%    50518.000000             2.000000         46.000000    26.000000   \n",
       "50%    55291.000000             3.000000         60.000000    39.000000   \n",
       "75%    60109.000000             4.000000         73.000000    51.000000   \n",
       "max    77911.000000             4.000000         85.000000    64.000000   \n",
       "\n",
       "                 CTC  \n",
       "count    1589.000000  \n",
       "mean    75353.278798  \n",
       "std     12587.288237  \n",
       "min     53020.320000  \n",
       "25%     66902.350000  \n",
       "50%     73028.670000  \n",
       "75%     80588.670000  \n",
       "max    123416.990000  "
      ]
     },
     "execution_count": 4,
     "metadata": {},
     "output_type": "execute_result"
    }
   ],
   "source": [
    "df.describe()"
   ]
  },
  {
   "cell_type": "code",
   "execution_count": 5,
   "metadata": {},
   "outputs": [
    {
     "name": "stdout",
     "output_type": "stream",
     "text": [
      "<class 'pandas.core.frame.DataFrame'>\n",
      "RangeIndex: 1589 entries, 0 to 1588\n",
      "Data columns (total 8 columns):\n",
      " #   Column               Non-Null Count  Dtype  \n",
      "---  ------               --------------  -----  \n",
      " 0   College              1589 non-null   object \n",
      " 1   City                 1589 non-null   object \n",
      " 2   Role                 1589 non-null   object \n",
      " 3   Previous CTC         1589 non-null   float64\n",
      " 4   Previous job change  1589 non-null   int64  \n",
      " 5   Graduation Marks     1589 non-null   int64  \n",
      " 6   EXP (Month)          1589 non-null   int64  \n",
      " 7   CTC                  1589 non-null   float64\n",
      "dtypes: float64(2), int64(3), object(3)\n",
      "memory usage: 99.4+ KB\n"
     ]
    }
   ],
   "source": [
    "df.info()"
   ]
  },
  {
   "cell_type": "code",
   "execution_count": 6,
   "metadata": {},
   "outputs": [
    {
     "data": {
      "text/plain": [
       "<Axes: xlabel='EXP (Month)', ylabel='CTC'>"
      ]
     },
     "execution_count": 6,
     "metadata": {},
     "output_type": "execute_result"
    },
    {
     "data": {
      "image/png": "[encoded data removed]",
      "text/plain": [
       "<Figure size 640x480 with 1 Axes>"
      ]
     },
     "metadata": {},
     "output_type": "display_data"
    }
   ],
   "source": [
    "sns.scatterplot(x='EXP (Month)', y='CTC', data=df)\n"
   ]
  },
  {
   "cell_type": "code",
   "execution_count": 7,
   "metadata": {},
   "outputs": [],
   "source": [
    "# removing colleges column\n",
    "df=df.drop(['College'],axis=1)"
   ]
  },
  {
   "cell_type": "code",
   "execution_count": 8,
   "metadata": {},
   "outputs": [
    {
     "name": "stdout",
     "output_type": "stream",
     "text": [
      "<class 'pandas.core.frame.DataFrame'>\n",
      "RangeIndex: 1589 entries, 0 to 1588\n",
      "Data columns (total 7 columns):\n",
      " #   Column               Non-Null Count  Dtype  \n",
      "---  ------               --------------  -----  \n",
      " 0   City                 1589 non-null   object \n",
      " 1   Role                 1589 non-null   object \n",
      " 2   Previous CTC         1589 non-null   float64\n",
      " 3   Previous job change  1589 non-null   int64  \n",
      " 4   Graduation Marks     1589 non-null   int64  \n",
      " 5   EXP (Month)          1589 non-null   int64  \n",
      " 6   CTC                  1589 non-null   float64\n",
      "dtypes: float64(2), int64(3), object(2)\n",
      "memory usage: 87.0+ KB\n"
     ]
    }
   ],
   "source": [
    "df.info()"
   ]
  },
  {
   "cell_type": "code",
   "execution_count": 9,
   "metadata": {},
   "outputs": [],
   "source": [
    "df=pd.get_dummies(df, columns=['City', 'Role'], drop_first=True)"
   ]
  },
  {
   "cell_type": "code",
   "execution_count": 10,
   "metadata": {},
   "outputs": [],
   "source": [
    "# Separate dependent and independent variables\n",
    "y=df['CTC']\n",
    "x=df.drop(['CTC'],axis=1)"
   ]
  },
  {
   "cell_type": "code",
   "execution_count": 11,
   "metadata": {},
   "outputs": [],
   "source": [
    "# Split the dataset to train and test data\n",
    "x_train, x_test, y_train, y_test = train_test_split(x, y, test_size=0.2, random_state=42)\n"
   ]
  },
  {
   "cell_type": "code",
   "execution_count": 20,
   "metadata": {},
   "outputs": [
    {
     "name": "stdout",
     "output_type": "stream",
     "text": [
      "Linear Regression - MSE: 79819507.03, R2: 0.58\n",
      "Ridge - MSE: 79900878.36, R2: 0.58\n",
      "Lasso - MSE: 79761361.49, R2: 0.58\n",
      "Random Forest - MSE: 71560259.19, R2: 0.62\n",
      "Gradient Boosting - MSE: 73528528.83, R2: 0.61\n"
     ]
    }
   ],
   "source": [
    "# Initialize models\n",
    "models = {\n",
    "    'Linear Regression': LinearRegression(),\n",
    "    'Ridge': Ridge(),\n",
    "    'Lasso': Lasso(),\n",
    "    'Random Forest': RandomForestRegressor(),\n",
    "    'Gradient Boosting': GradientBoostingRegressor()\n",
    "}\n",
    "\n",
    "# Fit models and evaluate\n",
    "results = {}\n",
    "for name, model in models.items():\n",
    "    model.fit(x_train, y_train)\n",
    "    y_pred = model.predict(x_test)\n",
    "    mse = mean_squared_error(y_test, y_pred)\n",
    "    r2 = r2_score(y_test, y_pred)\n",
    "    \n",
    "    results[name] = {'MSE': mse, 'R2': r2}\n",
    "\n",
    "# Print results\n",
    "for name, metrics in results.items():\n",
    "    print(f\"{name} - MSE: {metrics['MSE']:.2f}, R2: {metrics['R2']:.2f}\")"
   ]
  },
  {
   "cell_type": "code",
   "execution_count": 13,
   "metadata": {},
   "outputs": [],
   "source": [
    "# Define parameter grids for each model\n",
    "param_grids = {\n",
    "    'Ridge': {\n",
    "        'alpha': [0.1, 1, 10, 100]\n",
    "    },\n",
    "    'Lasso': {\n",
    "        'alpha': [0.1, 1, 10, 100]\n",
    "    },\n",
    "    'Random Forest': {\n",
    "        'n_estimators': [50, 100, 200],\n",
    "        'max_depth': [None, 10, 20, 30]\n",
    "    },\n",
    "    'Gradient Boosting': {\n",
    "        'n_estimators': [50, 100, 200],\n",
    "        'learning_rate': [0.01, 0.1, 0.2],\n",
    "        'max_depth': [3, 5, 7]\n",
    "    }\n",
    "}\n"
   ]
  },
  {
   "cell_type": "code",
   "execution_count": 14,
   "metadata": {},
   "outputs": [],
   "source": [
    "\n",
    "# Hyperparameter tuning and model fitting\n",
    "tuned_results = {}\n",
    "for name, model in models.items():\n",
    "    if name in param_grids:\n",
    "        grid_search = GridSearchCV(estimator=model, param_grid=param_grids[name], cv=5, scoring='r2')\n",
    "        grid_search.fit(x_train, y_train)\n",
    "        best_model = grid_search.best_estimator_\n",
    "        y_pred = best_model.predict(x_test)\n",
    "        mse = mean_squared_error(y_test, y_pred)\n",
    "        r2 = r2_score(y_test, y_pred)\n",
    "        tuned_results[name] = {'Best Params': grid_search.best_params_, 'MSE': mse, 'R2': r2}\n",
    "    else:\n",
    "        model.fit(x_train, y_train)\n",
    "        y_pred = model.predict(x_test)\n",
    "        mse = mean_squared_error(y_test, y_pred)\n",
    "        r2 = r2_score(y_test, y_pred)\n",
    "        tuned_results[name] = {'MSE': mse, 'R2': r2}\n"
   ]
  },
  {
   "cell_type": "code",
   "execution_count": 15,
   "metadata": {},
   "outputs": [
    {
     "name": "stdout",
     "output_type": "stream",
     "text": [
      "Linear Regression - Best Params: N/A, MSE: 79819507.03, R2: 0.58\n",
      "Ridge - Best Params: {'alpha': 10}, MSE: 80895032.91, R2: 0.57\n",
      "Lasso - Best Params: {'alpha': 100}, MSE: 78704627.28, R2: 0.59\n",
      "Random Forest - Best Params: {'max_depth': 30, 'n_estimators': 100}, MSE: 72134597.14, R2: 0.62\n",
      "Gradient Boosting - Best Params: {'learning_rate': 0.1, 'max_depth': 3, 'n_estimators': 50}, MSE: 72517204.44, R2: 0.62\n"
     ]
    }
   ],
   "source": [
    "\n",
    "# Print results\n",
    "for name, metrics in tuned_results.items():\n",
    "    print(f\"{name} - Best Params: {metrics.get('Best Params', 'N/A')}, MSE: {metrics['MSE']:.2f}, R2: {metrics['R2']:.2f}\")"
   ]
  },
  {
   "cell_type": "markdown",
   "metadata": {},
   "source": [
    "## *Questions*"
   ]
  },
  {
   "cell_type": "markdown",
   "metadata": {},
   "source": [
    "### 1. Your views about the problem statement?\n",
    "\n",
    "The problem statement appears to involve predicting a continuous target variable, CTC (likely representing a salary or compensation), based on various features such as EXP (Month), City, and Role. This is a classic regression problem where the goal is to develop a model that accurately predicts the target variable from the given features."
   ]
  },
  {
   "cell_type": "markdown",
   "metadata": {},
   "source": [
    "### 2. What will be your approach to solving this task?\n",
    "\n",
    "Here's a structured approach to solving this regression task:\n",
    "\n",
    "1. **Data Exploration and Preprocessing:**\n",
    "   - **Load and Explore the Dataset:** Understand the distribution of features and the target variable.\n",
    "   - **Data Cleaning:** Handle missing values, outliers, and any inconsistencies in the data.\n",
    "   - **Feature Engineering:** Convert categorical variables into numerical values using techniques like one-hot encoding.\n",
    "   - **Feature Scaling:** Normalize or standardize the features if necessary to improve model performance.\n",
    "\n",
    "2. **Model Selection:**\n",
    "   - **Split the Dataset:** Divide the data into training and test sets.\n",
    "   - **Choose a Set of Models:** Evaluate various regression models such as Linear Regression, Ridge, Lasso, Random Forest Regressor, and Gradient Boosting Regressor.\n",
    "\n",
    "3. **Model Training and Evaluation:**\n",
    "   - **Train Models:** Fit each model to the training data.\n",
    "   - **Evaluate Performance:** Use metrics like Mean Squared Error (MSE), Mean Absolute Error (MAE), and R-squared (R²) to assess performance on the test set.\n",
    "   - **Compare Results:** Identify the model that provides the best performance based on the evaluation metrics.\n",
    "\n",
    "4. **Model Tuning and Optimization:**\n",
    "   - **Hyperparameter Tuning:** Use techniques such as Grid Search or Random Search to find the best hyperparameters for the models.\n",
    "   - **Cross-Validation:** Apply cross-validation to ensure that the model generalizes well to unseen data.\n"
   ]
  },
  {
   "cell_type": "markdown",
   "metadata": {},
   "source": [
    "### 3. What were the available ML model options you had to perform this task?\n",
    "\n",
    "For this regression task, the following models were considered:\n",
    "\n",
    "- **Linear Regression:** A basic model that assumes a linear relationship between features and the target variable.\n",
    "- **Ridge Regression:** A type of Linear Regression with L2 regularization to prevent overfitting.\n",
    "- **Lasso Regression:** A type of Linear Regression with L1 regularization, which can also perform feature selection.\n",
    "- **Random Forest Regressor:** An ensemble model that builds multiple decision trees and averages their predictions.\n",
    "- **Gradient Boosting Regressor:** An ensemble model that builds trees sequentially to correct errors made by previous trees.\n"
   ]
  },
  {
   "cell_type": "markdown",
   "metadata": {},
   "source": [
    "### 4. Which model’s performance is best and what could be the possible reason for that?\n",
    "\n",
    "The performance of each model is compared using MSE, MAE, and R² scores. The model with the best performance will depend on these metrics:\n",
    "\n",
    "- **Random Forest Regressor:** Often performs well on complex datasets due to its ability to capture non-linear relationships and interactions between features.\n",
    "- **Gradient Boosting Regressor:** May also provide strong performance as it builds trees sequentially and corrects errors from previous trees.\n",
    "\n",
    "The best model's performance could be influenced by:\n",
    "\n",
    "- **Feature Interactions:** Random Forest and Gradient Boosting handle feature interactions and non-linearity better than linear models.\n",
    "- **Regularization:** Ridge and Lasso models may perform better with regularization if the data has high multicollinearity.\n"
   ]
  },
  {
   "cell_type": "markdown",
   "metadata": {},
   "source": [
    "### 5. What steps can you take to improve this selected model’s performance even further?\n",
    "\n",
    "To further improve the performance of the best-performing model:\n",
    "\n",
    "1. **Hyperparameter Tuning:**\n",
    "   - Perform Grid Search or Random Search to find the optimal hyperparameters for the selected model.\n",
    "\n",
    "2. **Feature Engineering:**\n",
    "   - Create new features or transform existing ones to provide more information to the model.\n",
    "\n",
    "3. **Cross-Validation:**\n",
    "   - Use k-fold cross-validation to ensure the model's performance is consistent and generalizes well.\n",
    "\n",
    "4. **Ensemble Methods:**\n",
    "   - Combine multiple models to improve predictive performance through techniques like stacking or blending.\n",
    "\n",
    "5. **Data Augmentation:**\n",
    "   - If possible, gather more data or use techniques to enhance the existing dataset.\n",
    "\n",
    "6. **Regularization Techniques:**\n",
    "   - For models like Ridge and Lasso, experimenting with different regularization strengths may help.\n",
    "\n",
    "By following these steps, you can enhance the accuracy and robustness of your regression model."
   ]
  }
 ],
 "metadata": {
  "kernelspec": {
   "display_name": "Python 3",
   "language": "python",
   "name": "python3"
  },
  "language_info": {
   "codemirror_mode": {
    "name": "ipython",
    "version": 3
   },
   "file_extension": ".py",
   "mimetype": "text/x-python",
   "name": "python",
   "nbconvert_exporter": "python",
   "pygments_lexer": "ipython3",
   "version": "3.11.3"
  }
 },
 "nbformat": 4,
 "nbformat_minor": 2
}
